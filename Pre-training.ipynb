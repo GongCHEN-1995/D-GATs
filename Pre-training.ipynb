{
 "cells": [
  {
   "cell_type": "code",
   "execution_count": null,
   "metadata": {},
   "outputs": [],
   "source": [
    "import os\n",
    "os.environ[\"CUDA_VISIBLE_DEVICES\"] = \"0\"\n",
    "\n",
    "from src.pretrain_model import D_GAT\n",
    "from src.pretrain_mol_processing import Read_mol_data, Generate_dataloader\n",
    "from src.pretrain_train_eval import Train_eval"
   ]
  },
  {
   "cell_type": "markdown",
   "metadata": {},
   "source": [
    "The hyerparameters and stored path are in file: './config/config/pretrain_config.json'"
   ]
  },
  {
   "cell_type": "code",
   "execution_count": null,
   "metadata": {
    "scrolled": true
   },
   "outputs": [],
   "source": [
    "config_file_path = './config/pretrain_config.json'\n",
    "mol_train, mol_val, mol_test = Read_mol_data()\n",
    "train_dataloader, val_dataloader, test_dataloader = Generate_dataloader(mol_train, mol_val, mol_test)\n",
    "model, best_score = D_GAT(mol_train, config_file_path)"
   ]
  },
  {
   "cell_type": "code",
   "execution_count": null,
   "metadata": {},
   "outputs": [],
   "source": [
    "model, best_score = Train_eval(model, train_dataloader, val_dataloader, test_dataloader, best_score, config_file_path)"
   ]
  },
  {
   "cell_type": "code",
   "execution_count": null,
   "metadata": {},
   "outputs": [],
   "source": []
  }
 ],
 "metadata": {
  "kernelspec": {
   "display_name": "Python 3",
   "language": "python",
   "name": "python3"
  },
  "language_info": {
   "codemirror_mode": {
    "name": "ipython",
    "version": 3
   },
   "file_extension": ".py",
   "mimetype": "text/x-python",
   "name": "python",
   "nbconvert_exporter": "python",
   "pygments_lexer": "ipython3",
   "version": "3.7.7"
  }
 },
 "nbformat": 4,
 "nbformat_minor": 4
}
